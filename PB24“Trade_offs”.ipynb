{
  "nbformat": 4,
  "nbformat_minor": 0,
  "metadata": {
    "colab": {
      "provenance": [],
      "authorship_tag": "ABX9TyMZcm4Id2o1Y3HQigMzVdrn",
      "include_colab_link": true
    },
    "kernelspec": {
      "name": "python3",
      "display_name": "Python 3"
    },
    "language_info": {
      "name": "python"
    }
  },
  "cells": [
    {
      "cell_type": "markdown",
      "metadata": {
        "id": "view-in-github",
        "colab_type": "text"
      },
      "source": [
        "<a href=\"https://colab.research.google.com/github/LiliiaPavl/PavlovaLiliia/blob/main/PB24%E2%80%9CTrade_offs%E2%80%9D.ipynb\" target=\"_parent\"><img src=\"https://colab.research.google.com/assets/colab-badge.svg\" alt=\"Open In Colab\"/></a>"
      ]
    },
    {
      "cell_type": "code",
      "execution_count": 1,
      "metadata": {
        "colab": {
          "base_uri": "https://localhost:8080/"
        },
        "id": "CJHfTcXXjESq",
        "outputId": "3e88557c-88cc-4a8a-89dd-495d86e73a86"
      },
      "outputs": [
        {
          "output_type": "stream",
          "name": "stdout",
          "text": [
            "(0, 3)\n",
            "O(n*2)\n"
          ]
        }
      ],
      "source": [
        "from typing import List, Tuple\n",
        "\n",
        "def find_sum(target: int, li: List[int]) -> Tuple[int, int]:\n",
        "    n = len(li)\n",
        "    for i in range(n):\n",
        "        for j in range(i + 1, n):\n",
        "            if li[i] + li[j] == target:\n",
        "                return (i, j)\n",
        "    return None\n",
        "res = find_sum(5, [1, 2, 3, 4, 5])\n",
        "print(res)\n",
        "print(\"O(n*2)\")"
      ]
    },
    {
      "cell_type": "code",
      "source": [
        "def find_sum_fast(target: int, li: List[int]) -> Tuple[int, int]:\n",
        "    seen = {}\n",
        "    for index, number in enumerate(li):\n",
        "        complement = target - number\n",
        "        if complement in seen:\n",
        "            return (seen[complement], index)\n",
        "        seen[number] = index\n",
        "    return None\n",
        "res = find_sum(5, [1, 2, 3, 4, 5])\n",
        "print(res)\n",
        "print(\"O(n)\")"
      ],
      "metadata": {
        "colab": {
          "base_uri": "https://localhost:8080/"
        },
        "id": "xEH08nOgklgb",
        "outputId": "c2cf1664-a965-41d2-ca5e-22f69ee5e5be"
      },
      "execution_count": 2,
      "outputs": [
        {
          "output_type": "stream",
          "name": "stdout",
          "text": [
            "(0, 3)\n",
            "O(n)\n"
          ]
        }
      ]
    }
  ]
}