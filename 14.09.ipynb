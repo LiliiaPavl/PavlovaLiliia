{
  "nbformat": 4,
  "nbformat_minor": 0,
  "metadata": {
    "colab": {
      "provenance": [],
      "authorship_tag": "ABX9TyO132vAf0LXmXRdlQBENBiG",
      "include_colab_link": true
    },
    "kernelspec": {
      "name": "python3",
      "display_name": "Python 3"
    },
    "language_info": {
      "name": "python"
    }
  },
  "cells": [
    {
      "cell_type": "markdown",
      "metadata": {
        "id": "view-in-github",
        "colab_type": "text"
      },
      "source": [
        "<a href=\"https://colab.research.google.com/github/LiliiaPavl/PavlovaLiliia/blob/main/14.09.ipynb\" target=\"_parent\"><img src=\"https://colab.research.google.com/assets/colab-badge.svg\" alt=\"Open In Colab\"/></a>"
      ]
    },
    {
      "cell_type": "code",
      "execution_count": 12,
      "metadata": {
        "id": "PBtQSdoQMJHP",
        "colab": {
          "base_uri": "https://localhost:8080/"
        },
        "outputId": "d59b8eeb-3b6e-4a05-eb80-4895919678b7"
      },
      "outputs": [
        {
          "output_type": "stream",
          "name": "stdout",
          "text": [
            "4*x**2+4*x+-8=0\n",
            "4\n",
            "4\n",
            "-8\n",
            "1.0 -2.0\n"
          ]
        }
      ],
      "source": [
        "eq = '4*x**2 +4*x +    (-8) =  0'\n",
        "res = eq.replace(\" \", \"\").replace(\"(\",\"\").replace(\")\",\"\")\n",
        "print(res)\n",
        "a = int(res.split('*x**2+')[0])\n",
        "print(a)\n",
        "b = int(res.split('*x**2+')[1].split('*x+')[0])\n",
        "print(b)\n",
        "c = int(res.split('*x+')[1].split('=')[0])\n",
        "print(c)\n",
        "import math\n",
        "x1 = (-b + math.sqrt(discriminant)) / (2*a)\n",
        "x2 = (-b - math.sqrt(discriminant)) / (2*a)\n",
        "print(x1,x2)"
      ]
    }
  ]
}