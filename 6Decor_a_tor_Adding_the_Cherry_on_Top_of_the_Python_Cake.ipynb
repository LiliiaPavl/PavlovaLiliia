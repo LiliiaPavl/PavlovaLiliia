{
  "nbformat": 4,
  "nbformat_minor": 0,
  "metadata": {
    "colab": {
      "provenance": [],
      "authorship_tag": "ABX9TyPMA7jlHeXT6Za/Xv8F/J9I",
      "include_colab_link": true
    },
    "kernelspec": {
      "name": "python3",
      "display_name": "Python 3"
    },
    "language_info": {
      "name": "python"
    }
  },
  "cells": [
    {
      "cell_type": "markdown",
      "metadata": {
        "id": "view-in-github",
        "colab_type": "text"
      },
      "source": [
        "<a href=\"https://colab.research.google.com/github/LiliiaPavl/PavlovaLiliia/blob/main/6Decor_a_tor_Adding_the_Cherry_on_Top_of_the_Python_Cake.ipynb\" target=\"_parent\"><img src=\"https://colab.research.google.com/assets/colab-badge.svg\" alt=\"Open In Colab\"/></a>"
      ]
    },
    {
      "cell_type": "code",
      "execution_count": 1,
      "metadata": {
        "colab": {
          "base_uri": "https://localhost:8080/"
        },
        "id": "JeTE339U8Ska",
        "outputId": "fce7bf8d-d125-4414-cce1-98ebe5b020c0"
      },
      "outputs": [
        {
          "output_type": "stream",
          "name": "stdout",
          "text": [
            "Customer receipt shown.\n",
            "Permission denied\n"
          ]
        }
      ],
      "source": [
        "def is_admin(func):\n",
        "    def wrapper(user_type):\n",
        "        if user_type != 'admin':\n",
        "            raise ValueError(\"Permission denied\")\n",
        "        return func(user_type)\n",
        "    return wrapper\n",
        "\n",
        "@is_admin\n",
        "def show_customer_receipt(user_type):\n",
        "    return \"Customer receipt shown.\"\n",
        "try:\n",
        "    print(show_customer_receipt(user_type='admin'))\n",
        "    print(show_customer_receipt(user_type='user'))\n",
        "except ValueError as e:\n",
        "    print(e)"
      ]
    },
    {
      "cell_type": "code",
      "source": [
        "def catch_errors(func):\n",
        "    def wrapper(*args, **kwargs):\n",
        "        try:\n",
        "            return func(*args, **kwargs)\n",
        "        except Exception as e:\n",
        "            print(f\"Found 1 error: {e}\")\n",
        "    return wrapper\n",
        "\n",
        "@catch_errors\n",
        "def some_function_with_risky_operation(data):\n",
        "    print(data['key'])\n",
        "\n",
        "some_function_with_risky_operation({'foo': 'bar'})\n",
        "some_function_with_risky_operation({'key': 'bar'})"
      ],
      "metadata": {
        "colab": {
          "base_uri": "https://localhost:8080/"
        },
        "id": "7QGLRc3x8tX_",
        "outputId": "88244311-3466-429f-e2a8-0deadc4421b2"
      },
      "execution_count": 2,
      "outputs": [
        {
          "output_type": "stream",
          "name": "stdout",
          "text": [
            "Found 1 error: 'key'\n",
            "bar\n"
          ]
        }
      ]
    },
    {
      "cell_type": "code",
      "source": [],
      "metadata": {
        "id": "doDZBEGC81EJ"
      },
      "execution_count": null,
      "outputs": []
    }
  ]
}