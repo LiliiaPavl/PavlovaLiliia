{
  "cells": [
    {
      "cell_type": "markdown",
      "metadata": {
        "id": "view-in-github",
        "colab_type": "text"
      },
      "source": [
        "<a href=\"https://colab.research.google.com/github/LiliiaPavl/PavlovaLiliia/blob/main/%228_1_Classes2_ipynb%22_ipynb%22.ipynb\" target=\"_parent\"><img src=\"https://colab.research.google.com/assets/colab-badge.svg\" alt=\"Open In Colab\"/></a>"
      ]
    },
    {
      "cell_type": "markdown",
      "metadata": {
        "id": "2_R_Ya7UhcB8"
      },
      "source": [
        "# Assignment 8.1\n",
        "\n",
        "> Replace all TODOs with your code.\n",
        ">\n",
        "> Do not change any other code and do not add/remove cells!"
      ]
    },
    {
      "cell_type": "markdown",
      "metadata": {
        "id": "N1SWwMSshfVz"
      },
      "source": [
        "## Classes"
      ]
    },
    {
      "cell_type": "markdown",
      "metadata": {
        "id": "OY8NxJ-CiePg"
      },
      "source": [
        "### Task 1\n",
        "\n",
        "Define a Python class named `Interval` with the following specifications:\n",
        "\n",
        "1. The class should have a constructor (\\_\\_init__) that takes two parameters, start and end, and initializes the interval with these values.\n",
        "2. Ensure that both start and end are numeric (either integers or floats).\n",
        "3. Ensure that the start value is less than or equal to the end value.\n",
        "4. Provide a \\_\\_str__ method to return a string representation of the interval in the format \"[start, end]\"."
      ]
    },
    {
      "cell_type": "code",
      "execution_count": 2,
      "metadata": {
        "id": "VBFmFWDXjQPT",
        "colab": {
          "base_uri": "https://localhost:8080/"
        },
        "outputId": "24dc811b-ec64-4674-ac62-5ae05497518c"
      },
      "outputs": [
        {
          "output_type": "stream",
          "name": "stdout",
          "text": [
            "[1, 5]\n"
          ]
        }
      ],
      "source": [
        "class Interval:\n",
        "    def __init__(self, start, end):\n",
        "        if not all(isinstance(i, (int, float)) for i in (start, end)):\n",
        "            raise TypeError(\"Start and end must be int or float\")\n",
        "        if start > end:\n",
        "            raise ValueError(\"Start <= or = end\")\n",
        "        self.start = start\n",
        "        self.end = end\n",
        "\n",
        "    def __str__(self):\n",
        "        return f\"[{self.start}, {self.end}]\"\n",
        "\n",
        "\n",
        "interval = Interval(1, 5)\n",
        "print(interval)"
      ]
    },
    {
      "cell_type": "markdown",
      "metadata": {
        "id": "pJ72CYiylhIY"
      },
      "source": [
        "### Task 2\n",
        "\n",
        "Expand the Interval class by adding a method named `is_overlapping` that checks whether the current interval overlaps with another interval. The method should take another Interval object as a parameter and return `True` if there is an overlap and `False` otherwise."
      ]
    },
    {
      "cell_type": "code",
      "execution_count": null,
      "metadata": {
        "id": "7t64cfMdl3qe",
        "colab": {
          "base_uri": "https://localhost:8080/"
        },
        "outputId": "3188ef42-57b2-412a-c318-e29978ce0096"
      },
      "outputs": [
        {
          "output_type": "stream",
          "name": "stdout",
          "text": [
            "Do intervals overlap? True\n"
          ]
        }
      ],
      "source": [
        "class Interval:\n",
        "    def __init__(self, start, end):\n",
        "        if start > end:\n",
        "            raise ValueError(\"Start <= or = end\")\n",
        "        self.start = start\n",
        "        self.end = end\n",
        "\n",
        "    def __str__(self):\n",
        "        return f\"[{self.start}, {self.end}]\"\n",
        "\n",
        "    def is_overlapping(self, other):\n",
        "        return not (self.end < other.start or self.start > other.end)\n",
        "\n",
        "interval1 = Interval(1, 5)\n",
        "interval2 = Interval(3, 8)\n",
        "\n",
        "overlap_result = interval1.is_overlapping(interval2)\n",
        "print(\"Do intervals overlap?\", overlap_result)\n"
      ]
    },
    {
      "cell_type": "markdown",
      "metadata": {
        "id": "aelqtEfkni2N"
      },
      "source": [
        "### Task 3\n",
        "\n",
        "Expand the `Interval` class by adding a **static** method named `intersection_static` that calculates the intersection of two overlapping intervals. The static method should take two `Interval` objects as parameters and return a new `Interval` representing the intersection if there is one.\n",
        "\n",
        "The method should return `None` if the intervals do not overlap."
      ]
    },
    {
      "cell_type": "code",
      "execution_count": null,
      "metadata": {
        "id": "E6DNMmTRoyNa",
        "colab": {
          "base_uri": "https://localhost:8080/"
        },
        "outputId": "92833b3d-57e0-4647-b981-dc4d3c05ee5f"
      },
      "outputs": [
        {
          "output_type": "stream",
          "name": "stdout",
          "text": [
            "Intersection result (static method): [3, 5]\n"
          ]
        }
      ],
      "source": [
        "class Interval:\n",
        "    def __init__(self, start, end):\n",
        "        if start > end:\n",
        "            raise ValueError(\"Start <= or = end\")\n",
        "        self.start = start\n",
        "        self.end = end\n",
        "\n",
        "    def __str__(self):\n",
        "        return f\"[{self.start}, {self.end}]\"\n",
        "\n",
        "    @staticmethod\n",
        "    def intersection_static(interval1, interval2):\n",
        "        if interval1.end < interval2.start or interval1.start > interval2.end:\n",
        "            return None\n",
        "        intersect_start = max(interval1.start, interval2.start)\n",
        "        intersect_end = min(interval1.end, interval2.end)\n",
        "        return Interval(intersect_start, intersect_end)\n",
        "\n",
        "interval1 = Interval(1, 5)\n",
        "interval2 = Interval(3, 8)\n",
        "\n",
        "intersection_result_static = Interval.intersection_static(interval1, interval2)\n",
        "\n",
        "print(\"Intersection result (static method):\", intersection_result_static)"
      ]
    },
    {
      "cell_type": "markdown",
      "metadata": {
        "id": "xGh7oQHFtsSl"
      },
      "source": [
        "### Task 4\n",
        "\n",
        "Expand the `Interval` class by overloading a math operator \"&\" to calculate the intersection of two overlapping intervals. Define the logic for the intersection using the method from the previous task."
      ]
    },
    {
      "cell_type": "code",
      "execution_count": null,
      "metadata": {
        "id": "3f3CiUlGu1cq",
        "colab": {
          "base_uri": "https://localhost:8080/"
        },
        "outputId": "49318f69-08e5-4c7c-de5e-ccc406bceba7"
      },
      "outputs": [
        {
          "output_type": "stream",
          "name": "stdout",
          "text": [
            "Intersection result (& operator): [3, 5]\n"
          ]
        }
      ],
      "source": [
        "class Interval:\n",
        "    def __init__(self, start, end):\n",
        "        if start > end:\n",
        "            raise ValueError(\"Start <= or = end\")\n",
        "        self.start = start\n",
        "        self.end = end\n",
        "\n",
        "    def __str__(self):\n",
        "        return f\"[{self.start}, {self.end}]\"\n",
        "\n",
        "    def __and__(self, other):\n",
        "        if self.end < other.start or self.start > other.end:\n",
        "            return None\n",
        "        intersect_start = max(self.start, other.start)\n",
        "        intersect_end = min(self.end, other.end)\n",
        "        return Interval(intersect_start, intersect_end)\n",
        "\n",
        "interval1 = Interval(1, 5)\n",
        "interval2 = Interval(3, 8)\n",
        "\n",
        "intersection_result = interval1 & interval2\n",
        "\n",
        "print(\"Intersection result (& operator):\", intersection_result)"
      ]
    },
    {
      "cell_type": "markdown",
      "metadata": {
        "id": "51BGij2Tvoka"
      },
      "source": [
        "### Task 5\n",
        "\n",
        "Expand the `Interval` class by adding a static method named `union_static` that calculates the union of two overlapping intervals. The static method should take two Interval objects as parameters and return a new Interval representing the union if there is one.\n",
        "\n",
        "The method should return `None` if the intervals do not overlap."
      ]
    },
    {
      "cell_type": "code",
      "execution_count": null,
      "metadata": {
        "id": "Xnm1CbK8v2v1",
        "colab": {
          "base_uri": "https://localhost:8080/"
        },
        "outputId": "bb458d10-d23f-4e0c-d0ca-06f1cfcdbad5"
      },
      "outputs": [
        {
          "output_type": "stream",
          "name": "stdout",
          "text": [
            "Union result: [1, 8]\n"
          ]
        }
      ],
      "source": [
        "class Interval:\n",
        "    def __init__(self, start, end):\n",
        "        if start > end:\n",
        "            raise ValueError(\"Start <= or = end\")\n",
        "        self.start = start\n",
        "        self.end = end\n",
        "\n",
        "    def __str__(self):\n",
        "        return f\"[{self.start}, {self.end}]\"\n",
        "\n",
        "    @staticmethod\n",
        "    def union_static(interval1, interval2):\n",
        "        if interval1.end < interval2.start or interval1.start > interval2.end:\n",
        "            return None\n",
        "\n",
        "        union_start = min(interval1.start, interval2.start)\n",
        "        union_end = max(interval1.end, interval2.end)\n",
        "\n",
        "        return Interval(union_start, union_end)\n",
        "\n",
        "interval1 = Interval(1, 5)\n",
        "interval2 = Interval(3, 8)\n",
        "\n",
        "union_result = Interval.union_static(interval1, interval2)\n",
        "\n",
        "print(\"Union result:\", union_result)"
      ]
    },
    {
      "cell_type": "markdown",
      "metadata": {
        "id": "5yGYlKjCwbzr"
      },
      "source": [
        "### Task 6\n",
        "\n",
        "Expand the `Interval` class by overloading a math operator \"|\" to calculate the union  of two overlapping intervals. Define the logic for the union using the method from the previous task."
      ]
    },
    {
      "cell_type": "code",
      "execution_count": null,
      "metadata": {
        "id": "xjCgPAy5wu1Z",
        "colab": {
          "base_uri": "https://localhost:8080/"
        },
        "outputId": "bb56949e-7c84-41f6-8b32-653a047f4955"
      },
      "outputs": [
        {
          "output_type": "stream",
          "name": "stdout",
          "text": [
            "Union result: [1, 8]\n"
          ]
        }
      ],
      "source": [
        "class Interval:\n",
        "    def __init__(self, start, end):\n",
        "        if start > end:\n",
        "            raise ValueError(\"Start <= or = end\")\n",
        "        self.start = start\n",
        "        self.end = end\n",
        "\n",
        "    def __str__(self):\n",
        "        return f\"[{self.start}, {self.end}]\"\n",
        "\n",
        "    @staticmethod\n",
        "    def union_static(interval1, interval2):\n",
        "        if interval1.end < interval2.start or interval1.start > interval2.end:\n",
        "            return None\n",
        "\n",
        "        union_start = min(interval1.start, interval2.start)\n",
        "        union_end = max(interval1.end, interval2.end)\n",
        "\n",
        "        return Interval(union_start, union_end)\n",
        "\n",
        "interval1 = Interval(1, 5)\n",
        "interval2 = Interval(3, 8)\n",
        "\n",
        "union_result = Interval.union_static(interval1, interval2)\n",
        "\n",
        "print(\"Union result:\", union_result)"
      ]
    },
    {
      "cell_type": "markdown",
      "metadata": {
        "id": "N-hiSBEK0fbz"
      },
      "source": [
        "### Task 7 (optional)\n",
        "\n",
        "Expand the `Interval` class by overloading the \"-\" operator to calculate the difference between two intervals. The method should return a new `Interval` representing the portion of the first interval that is not in the second."
      ]
    },
    {
      "cell_type": "code",
      "execution_count": null,
      "metadata": {
        "id": "YZ5AqAXr002L",
        "colab": {
          "base_uri": "https://localhost:8080/"
        },
        "outputId": "2b67de88-6f09-4a2b-bee4-1c097a91b06a"
      },
      "outputs": [
        {
          "output_type": "stream",
          "name": "stdout",
          "text": [
            "Difference Result: [1, 3]\n",
            "Difference Result: [5, 8]\n"
          ]
        }
      ],
      "source": [
        "class Interval:\n",
        "    def __init__(self, start, end):\n",
        "        if start > end:\n",
        "            raise ValueError(\"Start <= or = end\")\n",
        "        self.start = start\n",
        "        self.end = end\n",
        "\n",
        "    def __str__(self):\n",
        "        return f\"[{self.start}, {self.end}]\"\n",
        "\n",
        "    def __sub__(self, other):\n",
        "        if self.end <= other.start or self.start >= other.end:\n",
        "            return self\n",
        "        if self.start >= other.start and self.end <= other.end:\n",
        "            return None\n",
        "        if self.start < other.start:\n",
        "            return Interval(self.start, other.start)\n",
        "\n",
        "        return Interval(other.end, self.end)\n",
        "\n",
        "interval1 = Interval(1, 5)\n",
        "interval2 = Interval(3, 8)\n",
        "\n",
        "difference_result1 = interval1 - interval2\n",
        "difference_result2 = interval2 - interval1\n",
        "\n",
        "print(\"Difference Result:\", difference_result1)\n",
        "print(\"Difference Result:\", difference_result2)"
      ]
    }
  ],
  "metadata": {
    "colab": {
      "provenance": [],
      "toc_visible": true,
      "include_colab_link": true
    },
    "kernelspec": {
      "display_name": "Python 3",
      "name": "python3"
    },
    "language_info": {
      "name": "python"
    }
  },
  "nbformat": 4,
  "nbformat_minor": 0
}