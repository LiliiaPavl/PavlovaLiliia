{
  "nbformat": 4,
  "nbformat_minor": 0,
  "metadata": {
    "colab": {
      "provenance": [],
      "authorship_tag": "ABX9TyNZ7VjDRrgISNTJyj2yUqYg",
      "include_colab_link": true
    },
    "kernelspec": {
      "name": "python3",
      "display_name": "Python 3"
    },
    "language_info": {
      "name": "python"
    }
  },
  "cells": [
    {
      "cell_type": "markdown",
      "metadata": {
        "id": "view-in-github",
        "colab_type": "text"
      },
      "source": [
        "<a href=\"https://colab.research.google.com/github/LiliiaPavl/PavlovaLiliia/blob/main/secretmessages.ipynb\" target=\"_parent\"><img src=\"https://colab.research.google.com/assets/colab-badge.svg\" alt=\"Open In Colab\"/></a>"
      ]
    },
    {
      "cell_type": "code",
      "source": [
        "def caesar_encrypt(message, key):\n",
        "    encrypted_message = \"\"\n",
        "\n",
        "    for char in message:\n",
        "        if char.isalpha():\n",
        "            shift = ord('a') if char.islower() else ord('A')\n",
        "            encrypted_message += chr((ord(char) - shift + key) % 26 + shift)\n",
        "        else:\n",
        "            encrypted_message += char\n",
        "\n",
        "    return encrypted_message\n",
        "\n",
        "key = int(input(\"Enter key: \"))\n",
        "message = input(\"Enter message: \")\n",
        "\n",
        "result = caesar_encrypt(message, key)\n",
        "\n",
        "print(\"\\nResult:\", result)"
      ],
      "metadata": {
        "colab": {
          "base_uri": "https://localhost:8080/"
        },
        "id": "P3n3takCZoV9",
        "outputId": "e8ed5df9-0156-4baf-8ddc-7552f27d6387"
      },
      "execution_count": 17,
      "outputs": [
        {
          "output_type": "stream",
          "name": "stdout",
          "text": [
            "Enter key: 1\n",
            "Enter message: The quick brown fox jumps over the lazy dog.\n",
            "\n",
            "Result: Uif rvjdl cspxo gpy kvnqt pwfs uif mbaz eph.\n"
          ]
        }
      ]
    },
    {
      "cell_type": "code",
      "source": [
        "def caesar_decrypt(message, key):\n",
        "    decrypted_message = \"\"\n",
        "\n",
        "    for char in message:\n",
        "        if char.isalpha():\n",
        "            shift = ord('a') if char.islower() else ord('A')\n",
        "            decrypted_message += chr((ord(char) - shift - key) % 26 + shift)\n",
        "        else:\n",
        "            decrypted_message += char\n",
        "\n",
        "    return decrypted_message\n",
        "\n",
        "key = int(input(\"Enter key: \"))\n",
        "message = input(\"Enter message: \")\n",
        "\n",
        "result = caesar_decrypt(message, key)\n",
        "\n",
        "print(\"\\nResult:\", result)"
      ],
      "metadata": {
        "colab": {
          "base_uri": "https://localhost:8080/"
        },
        "id": "E8AAD-M3aZGq",
        "outputId": "795d911f-b486-4801-bdc7-9d5c6c962471"
      },
      "execution_count": 19,
      "outputs": [
        {
          "output_type": "stream",
          "name": "stdout",
          "text": [
            "Enter key: 1\n",
            "Enter message: Uif rvjdl cspxo gpy kvnqt pwfs uif mbaz eph.\n",
            "\n",
            "Result: The quick brown fox jumps over the lazy dog.\n"
          ]
        }
      ]
    },
    {
      "cell_type": "code",
      "source": [
        "def is_balanced(s):\n",
        "    stack = []\n",
        "\n",
        "    for char in s:\n",
        "        if char == '(':\n",
        "            stack.append(char)\n",
        "        elif char == ')':\n",
        "            if not stack:\n",
        "                return False\n",
        "            stack.pop()\n",
        "\n",
        "    return len(stack) == 0\n",
        "\n",
        "print(is_balanced('()'))\n",
        "print(is_balanced('())'))\n",
        "print(is_balanced('(()'))\n",
        "print(is_balanced(')())'))"
      ],
      "metadata": {
        "colab": {
          "base_uri": "https://localhost:8080/"
        },
        "id": "U1E5QxI0ejKF",
        "outputId": "07c8ea49-ec89-48f5-f690-9b4d00590959"
      },
      "execution_count": 21,
      "outputs": [
        {
          "output_type": "stream",
          "name": "stdout",
          "text": [
            "True\n",
            "False\n",
            "False\n",
            "False\n"
          ]
        }
      ]
    }
  ]
}