{
  "cells": [
    {
      "cell_type": "markdown",
      "metadata": {
        "id": "view-in-github",
        "colab_type": "text"
      },
      "source": [
        "<a href=\"https://colab.research.google.com/github/LiliiaPavl/PavlovaLiliia/blob/main/9_2_2Intro_to_data_analysi_ipynb%22_ipynb%22.ipynb\" target=\"_parent\"><img src=\"https://colab.research.google.com/assets/colab-badge.svg\" alt=\"Open In Colab\"/></a>"
      ]
    },
    {
      "cell_type": "markdown",
      "metadata": {
        "id": "oY7M_WqQy7zz"
      },
      "source": [
        "# Assignment 9.2\n",
        "\n",
        "> Replace all TODOs with your code. Do not change any other code."
      ]
    },
    {
      "cell_type": "code",
      "execution_count": 1,
      "metadata": {
        "id": "mnm_mM7I9Xx0"
      },
      "outputs": [],
      "source": [
        "# Do not edit this cell\n",
        "\n",
        "from typing import List"
      ]
    },
    {
      "cell_type": "markdown",
      "metadata": {
        "id": "Jz8SYjAz0N8D"
      },
      "source": [
        "## Descriptive statistics\n",
        "\n",
        "In this assignment, we will write the functions to calculate the basic statistics from scratch, not using numpy."
      ]
    },
    {
      "cell_type": "markdown",
      "metadata": {
        "id": "IHwd1Zzby7z1"
      },
      "source": [
        "### Task 1\n",
        "\n",
        "Let's start simple: write a function `mean` that calculates the average of the list.\n",
        "\n",
        "$$\\mu = \\frac{{\\sum_{i=1}^n x_i}}{{n}}$$"
      ]
    },
    {
      "cell_type": "code",
      "execution_count": 2,
      "metadata": {
        "id": "UfB0dnXHy7z2",
        "tags": [
          "task_1"
        ]
      },
      "outputs": [],
      "source": [
        "def mean(li: List[float]) -> float:\n",
        "  if not li:\n",
        "        return 0.0\n",
        "  return sum(li) / len(li)\n",
        "\n",
        "assert mean([1., 2., 3.]) == 2.\n",
        "assert mean([1., 1., 2., 0.]) == 1."
      ]
    },
    {
      "cell_type": "markdown",
      "metadata": {
        "id": "lL-ELM-Ay7z2"
      },
      "source": [
        "### Task 2\n",
        "\n",
        "Now let's calculate variance (dispersion). You may use the `mean` function implemented before.\n",
        "\n",
        "$$V = \\frac{{\\sum_{i=1}^n (x_i - \\mu)^2}}{{n}}$$"
      ]
    },
    {
      "cell_type": "code",
      "execution_count": 3,
      "metadata": {
        "id": "cibiSsjry7z3",
        "tags": [
          "task_2"
        ]
      },
      "outputs": [],
      "source": [
        "def variance(li: List[float]) -> float:\n",
        "    if not li:\n",
        "        return 0.0\n",
        "    μ = mean(li)\n",
        "    return sum((x - μ) ** 2 for x in li) / len(li)\n",
        "\n",
        "assert variance([1., 1., 1.]) == 0.\n",
        "assert variance([1., 2., 3., 4.]) == 1.25"
      ]
    },
    {
      "cell_type": "markdown",
      "metadata": {
        "id": "YSAUJe1u9XyM"
      },
      "source": [
        "### Task 3\n",
        "\n",
        "The standard deviation is easy once you get the variance:\n",
        "\n",
        "$$\\sigma = \\sqrt{V}$$"
      ]
    },
    {
      "cell_type": "code",
      "execution_count": 4,
      "metadata": {
        "tags": [
          "task_3"
        ],
        "id": "8cr3iHPR9XyO"
      },
      "outputs": [],
      "source": [
        "import math\n",
        "def std(li: List[float]) -> float:\n",
        "    return math.sqrt(variance(li))\n",
        "assert std([1., 1., 1.]) == 0.\n",
        "assert std([1., 2., 3., 4.]) == 1.25**0.5"
      ]
    },
    {
      "cell_type": "markdown",
      "metadata": {
        "id": "2I481Gkj9XyR"
      },
      "source": [
        "### Task 4\n",
        "\n",
        "**Median**\n",
        "\n",
        "The median is the middle value in a sorted dataset. If the dataset has an odd number of values, the median is the value at the center. If the dataset has an even number of values, the median is the average of the two middle values."
      ]
    },
    {
      "cell_type": "code",
      "execution_count": 5,
      "metadata": {
        "tags": [
          "task_4"
        ],
        "id": "0BEoTR119XyT"
      },
      "outputs": [],
      "source": [
        "def median(li: List[float]) -> float:\n",
        "    if not li:\n",
        "        raise ValueError(\"Cannot compute median.\")\n",
        "\n",
        "    sorted_li = sorted(li)\n",
        "    n = len(sorted_li)\n",
        "    mid = n // 2\n",
        "\n",
        "    if n % 2 == 0:\n",
        "        return (sorted_li[mid - 1] + sorted_li[mid]) / 2.0\n",
        "    else:\n",
        "        return sorted_li[mid]\n",
        "\n",
        "assert median([1., 1., 1.]) == 1.\n",
        "assert median([1., 4., 3., 2.]) == 2.5"
      ]
    },
    {
      "cell_type": "markdown",
      "metadata": {
        "id": "5DzFkKwx0VI5"
      },
      "source": [
        "## Measure performance\n",
        "\n",
        "Sometimes, apart from theoretical, algorithmic complexity, it's a good idea to compare the runtime of two algorithms empirically, i.e., run the code many times and time it.\n",
        "\n",
        "In Python's standard library, we have [timeit](https://docs.python.org/3/library/timeit.html) module that does exactly that.\n",
        "\n",
        "Let's compare the runtime of your implementations and numpy. Use the provided setup code:"
      ]
    },
    {
      "cell_type": "code",
      "execution_count": 8,
      "metadata": {
        "id": "wlNX3Jyz9XyV",
        "colab": {
          "base_uri": "https://localhost:8080/"
        },
        "outputId": "da2d8afb-1135-44c3-e90e-e7ed8161f032"
      },
      "outputs": [
        {
          "output_type": "stream",
          "name": "stdout",
          "text": [
            "mean: 0.017374 seconds\n",
            "variance: 0.160571 seconds\n",
            "std: 0.161205 seconds\n",
            "median: 0.170299 seconds\n"
          ]
        }
      ],
      "source": [
        "import timeit\n",
        "import random\n",
        "import numpy as np\n",
        "from typing import List\n",
        "\n",
        "funcs = {\n",
        "    'mean': mean,\n",
        "    'variance': variance,\n",
        "    'std': std,\n",
        "    'median': median,\n",
        "}\n",
        "\n",
        "for label, func in funcs.items():\n",
        "    time_taken = timeit.timeit(f\"{func.__name__}(li)\", setup=setup_code, number=100, globals=globals())\n",
        "    print(f\"{label}: {time_taken:.6f} seconds\")\n",
        "\n"
      ]
    },
    {
      "cell_type": "markdown",
      "metadata": {
        "id": "nP0LlORsy7z4"
      },
      "source": [
        "### Task 5\n",
        "\n",
        "Complete Python statements to compare your functions to numpy. Use `li` for your function and `arr` for numpy functions."
      ]
    },
    {
      "cell_type": "code",
      "execution_count": 9,
      "metadata": {
        "id": "RiIm_kUSy7z4",
        "tags": [
          "task_5"
        ]
      },
      "outputs": [],
      "source": [
        "stmt_mean_custom = 'mean(li)'\n",
        "stmt_mean_np = 'np.mean(arr)'\n",
        "\n",
        "stmt_var_custom = 'variance(li)'\n",
        "stmt_var_np = 'np.var(arr)'\n",
        "\n",
        "stmt_std_custom = 'std(li)'\n",
        "stmt_std_np = 'np.std(arr)'\n",
        "\n",
        "stmt_median_custom = 'median(li)'\n",
        "stmt_median_np = 'np.median(arr)'"
      ]
    },
    {
      "cell_type": "markdown",
      "metadata": {
        "id": "hU1yDEnzy7z4"
      },
      "source": [
        "### Task 6\n",
        "\n",
        "Measure average exec time of your statements with `timeit` module. As your submission, fill out the table with results (rounded to 2 decimal places)"
      ]
    },
    {
      "cell_type": "code",
      "execution_count": 18,
      "metadata": {
        "id": "8sOSsdKiy7z4",
        "tags": [
          "task_6"
        ],
        "colab": {
          "base_uri": "https://localhost:8080/"
        },
        "outputId": "dbd042fb-0bf4-4cf5-a738-ebd63cf04c2d"
      },
      "outputs": [
        {
          "output_type": "stream",
          "name": "stdout",
          "text": [
            "Func           Custom              Numpy\n",
            "--------------------------------------------------\n",
            "mean           8.9e-05             1.8e-05\n",
            "variance       0.001783            3.8e-05\n",
            "std            0.001726            4.1e-05\n",
            "median         0.001927            0.00016\n"
          ]
        }
      ],
      "source": [
        "def measure_time(func_name, is_numpy=False):\n",
        "    stmt = stmt_template_np[func_name] if is_numpy else stmt_template.format(func=func_name)\n",
        "    return timeit.timeit(stmt=stmt, setup=setup_code, globals=globals(), number=10_000) / 10_000\n",
        "\n",
        "print(f\"{'Func':<15}{'Custom':<20}{'Numpy'}\")\n",
        "print('-' * 50)\n",
        "\n",
        "functions = ['mean', 'variance', 'std', 'median']\n",
        "for func in functions:\n",
        "    custom_time = measure_time(func)\n",
        "    numpy_time = measure_time(func, is_numpy=True)\n",
        "    print(f\"{func:<15}{round(custom_time, 6):<20}{round(numpy_time, 6)}\")"
      ]
    },
    {
      "cell_type": "markdown",
      "metadata": {
        "id": "NbbRIcyqy7z4"
      },
      "source": [
        "Time per 10000 executions, secs\n",
        "\n",
        "| Func       | Custom | Numpy |\n",
        "| ---------- | ------ | ----- |\n",
        "| mean       |        |       |\n",
        "| var        |        |       |\n",
        "| std        |        |       |\n",
        "| median     |        |       |"
      ]
    }
  ],
  "metadata": {
    "colab": {
      "provenance": [],
      "toc_visible": true,
      "include_colab_link": true
    },
    "kernelspec": {
      "display_name": "venv",
      "language": "python",
      "name": "python3"
    },
    "language_info": {
      "codemirror_mode": {
        "name": "ipython",
        "version": 3
      },
      "file_extension": ".py",
      "mimetype": "text/x-python",
      "name": "python",
      "nbconvert_exporter": "python",
      "pygments_lexer": "ipython3",
      "version": "3.9.6"
    },
    "orig_nbformat": 4
  },
  "nbformat": 4,
  "nbformat_minor": 0
}