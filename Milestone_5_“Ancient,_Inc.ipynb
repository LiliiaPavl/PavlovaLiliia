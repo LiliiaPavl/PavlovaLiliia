{
  "nbformat": 4,
  "nbformat_minor": 0,
  "metadata": {
    "colab": {
      "provenance": [],
      "authorship_tag": "ABX9TyNbEzHuaqgn7VN+ltBt0yRj",
      "include_colab_link": true
    },
    "kernelspec": {
      "name": "python3",
      "display_name": "Python 3"
    },
    "language_info": {
      "name": "python"
    }
  },
  "cells": [
    {
      "cell_type": "markdown",
      "metadata": {
        "id": "view-in-github",
        "colab_type": "text"
      },
      "source": [
        "<a href=\"https://colab.research.google.com/github/LiliiaPavl/PavlovaLiliia/blob/main/Milestone_5_%E2%80%9CAncient%2C_Inc.ipynb\" target=\"_parent\"><img src=\"https://colab.research.google.com/assets/colab-badge.svg\" alt=\"Open In Colab\"/></a>"
      ]
    },
    {
      "cell_type": "code",
      "execution_count": null,
      "metadata": {
        "id": "twpmPDTLHYz3"
      },
      "outputs": [],
      "source": [
        "import csv\n",
        "from faker import Faker\n",
        "\n",
        "fake = Faker()\n",
        "\n",
        "num_employees = 43\n",
        "employee_data = [{\n",
        "    'Name': fake.name(),\n",
        "    'Hiring Date': fake.date_this_decade(),\n",
        "    'Department': fake.job(),\n",
        "    'Birthday': fake.date_of_birth(minimum_age=20, maximum_age=60)\n",
        "} for _ in range(num_employees)]\n",
        "\n",
        "with open('database.csv', mode='w') as file:\n",
        "    writer = csv.DictWriter(file, fieldnames=employee_data[0].keys())\n",
        "    writer.writeheader()\n",
        "    writer.writerows(employee_data)\n",
        "\n",
        "print(f\" {num_employees} employee records in 'database.csv'.\")"
      ]
    },
    {
      "cell_type": "code",
      "source": [
        "import csv\n",
        "from datetime import datetime\n",
        "\n",
        "filename = 'database.csv'\n",
        "month_name = 'April'\n",
        "month = datetime.strptime(month_name, '%B').month\n",
        "\n",
        "birthdays = 0\n",
        "anniversaries = 0\n",
        "\n",
        "with open(filename) as file:\n",
        "    reader = csv.DictReader(file)\n",
        "    for row in reader:\n",
        "        if datetime.strptime(row['Birthday'], '%Y-%m-%d').month == month:\n",
        "            birthdays += 1\n",
        "        if datetime.strptime(row['Hiring Date'], '%Y-%m-%d').month == month:\n",
        "            anniversaries += 1\n",
        "\n",
        "print(f\"Birthdays: {birthdays}, Anniversaries: {anniversaries}\")\n"
      ],
      "metadata": {
        "id": "kR2UqpD8kO5w"
      },
      "execution_count": null,
      "outputs": []
    }
  ]
}