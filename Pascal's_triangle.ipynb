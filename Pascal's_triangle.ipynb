{
  "nbformat": 4,
  "nbformat_minor": 0,
  "metadata": {
    "colab": {
      "provenance": [],
      "authorship_tag": "ABX9TyMcLoSjAvapWoI/Rz4Ox7J9",
      "include_colab_link": true
    },
    "kernelspec": {
      "name": "python3",
      "display_name": "Python 3"
    },
    "language_info": {
      "name": "python"
    }
  },
  "cells": [
    {
      "cell_type": "markdown",
      "metadata": {
        "id": "view-in-github",
        "colab_type": "text"
      },
      "source": [
        "<a href=\"https://colab.research.google.com/github/LiliiaPavl/PavlovaLiliia/blob/main/Pascal's_triangle.ipynb\" target=\"_parent\"><img src=\"https://colab.research.google.com/assets/colab-badge.svg\" alt=\"Open In Colab\"/></a>"
      ]
    },
    {
      "cell_type": "code",
      "source": [],
      "metadata": {
        "id": "DbHM5tOmRmzk"
      },
      "execution_count": null,
      "outputs": []
    },
    {
      "cell_type": "code",
      "source": [
        "from typing import List\n",
        "def get_triangle(rows: int) -> List[List[int]]:\n",
        "    triangle = []\n",
        "\n",
        "    for i in range(rows):\n",
        "        row = [1] * (i + 1)\n",
        "        for j in range(1, i):\n",
        "            row[j] = triangle[i - 1][j - 1] + triangle[i - 1][j]\n",
        "        triangle.append(row)\n",
        "\n",
        "    return triangle\n",
        "\n",
        "def print_triangle(triangle: List[List[int]]) -> None:\n",
        "    rows = len(triangle)\n",
        "    for i in range(rows):\n",
        "       print(' '.join(str(num) for num in triangle[i]))\n",
        "\n",
        "triangle = get_triangle(5)\n",
        "print_triangle(triangle)"
      ],
      "metadata": {
        "colab": {
          "base_uri": "https://localhost:8080/"
        },
        "id": "BoWG3Ak6RtG2",
        "outputId": "0bfe78fd-52e1-4069-ef20-9f99f369dfdd"
      },
      "execution_count": 14,
      "outputs": [
        {
          "output_type": "stream",
          "name": "stdout",
          "text": [
            "1\n",
            "1 1\n",
            "1 2 1\n",
            "1 3 3 1\n",
            "1 4 6 4 1\n"
          ]
        }
      ]
    },
    {
      "cell_type": "code",
      "source": [
        "from typing import List\n",
        "\n",
        "def get_triangle(rows: int) -> List[List[int]]:\n",
        "    triangle = []\n",
        "\n",
        "    for i in range(rows):\n",
        "        row = [1] * (i + 1)\n",
        "        for j in range(1, i):\n",
        "            row[j] = triangle[i - 1][j - 1] + triangle[i - 1][j]\n",
        "        triangle.append(row)\n",
        "\n",
        "    return triangle\n",
        "\n",
        "def print_triangle(triangle: List[List[int]]) -> None:\n",
        "    rows = len(triangle)\n",
        "    for i in range(rows):\n",
        "        print(' ' * (rows - i), end='')\n",
        "        print(' '.join(str(num) for num in triangle[i]))\n",
        "\n",
        "triangle = get_triangle(5)\n",
        "print_triangle(triangle)\n"
      ],
      "metadata": {
        "colab": {
          "base_uri": "https://localhost:8080/"
        },
        "id": "f_vmtdMYglh3",
        "outputId": "7f8668f8-5e62-4756-872c-4d231dadd7f4"
      },
      "execution_count": 15,
      "outputs": [
        {
          "output_type": "stream",
          "name": "stdout",
          "text": [
            "     1\n",
            "    1 1\n",
            "   1 2 1\n",
            "  1 3 3 1\n",
            " 1 4 6 4 1\n"
          ]
        }
      ]
    }
  ]
}