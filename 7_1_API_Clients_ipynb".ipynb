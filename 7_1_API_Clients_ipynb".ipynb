{
  "cells": [
    {
      "cell_type": "markdown",
      "metadata": {
        "id": "view-in-github",
        "colab_type": "text"
      },
      "source": [
        "<a href=\"https://colab.research.google.com/github/LiliiaPavl/PavlovaLiliia/blob/main/7_1_API_Clients_ipynb%22.ipynb\" target=\"_parent\"><img src=\"https://colab.research.google.com/assets/colab-badge.svg\" alt=\"Open In Colab\"/></a>"
      ]
    },
    {
      "cell_type": "markdown",
      "metadata": {
        "id": "K-xXkt9Ztf7J"
      },
      "source": [
        "# Assignment 7.1\n",
        "\n",
        "> Replace all TODOs with your code.\n",
        ">\n",
        "> Do not change any other code and do not add/remove cells!"
      ]
    },
    {
      "cell_type": "code",
      "execution_count": 4,
      "metadata": {
        "id": "sGdc6BbbALg9"
      },
      "outputs": [],
      "source": [
        "# Do not edit this cell\n",
        "\n",
        "from typing import List, Dict\n"
      ]
    },
    {
      "cell_type": "markdown",
      "metadata": {
        "id": "cfhcjaX0vXXa"
      },
      "source": [
        "## Clients"
      ]
    },
    {
      "cell_type": "markdown",
      "metadata": {
        "id": "Vlz14hyr6wV6"
      },
      "source": [
        "### Task 1\n",
        "\n",
        "Write a function that takes a GitHub repository name as input and uses the [GitHub Repository API](https://docs.github.com/en/rest/repos) to retrieve and return information about the specified repository, including:\n",
        "\n",
        "* Repository Name\n",
        "* Owner\n",
        "* Description\n",
        "* License (if available)\n",
        "* Creation Date\n",
        "\n",
        "Use the `requests` module for this task."
      ]
    },
    {
      "cell_type": "code",
      "source": [
        "import requests\n",
        "from typing import Dict\n",
        "\n",
        "def get_repository_info(repo_name: str) -> Dict[str, str]:\n",
        "    url = f\"https://api.github.com/repos/{repo_name}\"\n",
        "    response = requests.get(url)\n",
        "\n",
        "    if response:\n",
        "        data = response.json()\n",
        "        return {\n",
        "            \"Repository Name\": data.get(\"name\"),\n",
        "            \"Owner\": data.get(\"owner\").get(\"login\"),\n",
        "            \"Description\": data.get(\"description\"),\n",
        "            \"Creation Date\": data.get(\"created_at\")\n",
        "        }\n",
        "    else:\n",
        "        return {\"ERROR\": \"Repository not found\"}\n",
        "\n",
        "repo_info = get_repository_info(\"octocat/Hello-World\")\n",
        "print(repo_info)\n"
      ],
      "metadata": {
        "colab": {
          "base_uri": "https://localhost:8080/"
        },
        "id": "0EiH10vMGp_p",
        "outputId": "3bcdd52b-6080-45bb-be6a-8884201a0968"
      },
      "execution_count": 57,
      "outputs": [
        {
          "output_type": "stream",
          "name": "stdout",
          "text": [
            "{'Repository Name': 'Hello-World', 'Owner': 'octocat', 'Description': 'My first repository on GitHub!', 'Creation Date': '2011-01-26T19:01:12Z'}\n"
          ]
        }
      ]
    },
    {
      "cell_type": "markdown",
      "metadata": {
        "id": "0TC34gv79VEo"
      },
      "source": [
        "### Task 2\n",
        "\n",
        "Write a function that takes a GitHub repository name and uses the [GitHub Commits API](https://docs.github.com/en/rest/commits/commits) to retrieve and return information about the five most recent commits in a selected GitHub repository, including:\n",
        "* Commit Message\n",
        "* Author\n",
        "* Date\n",
        "* Link to the commit on GitHub\n",
        "\n",
        "Use the `requests` module for this task."
      ]
    },
    {
      "cell_type": "code",
      "execution_count": 55,
      "metadata": {
        "id": "Kf2284dT-atu",
        "colab": {
          "base_uri": "https://localhost:8080/"
        },
        "outputId": "4927337f-b327-4228-dc44-8c6dd5bb61f9"
      },
      "outputs": [
        {
          "output_type": "stream",
          "name": "stdout",
          "text": [
            "{'Commit Message': 'Merge pull request #6 from Spaceghost/patch-1\\n\\nNew line at end of file.', 'Author': 'The Octocat', 'Date': '2012-03-06T23:06:50Z', 'Link': 'https://github.com/octocat/Hello-World/commit/7fd1a60b01f91b314f59955a4e4d4e80d8edf11d'}\n",
            "{'Commit Message': 'New line at end of file. --Signed off by Spaceghost', 'Author': 'Johnneylee Jack Rollins', 'Date': '2011-09-14T04:42:41Z', 'Link': 'https://github.com/octocat/Hello-World/commit/762941318ee16e59dabbacb1b4049eec22f0d303'}\n",
            "{'Commit Message': 'first commit', 'Author': 'cameronmcefee', 'Date': '2011-01-26T19:06:08Z', 'Link': 'https://github.com/octocat/Hello-World/commit/553c2077f0edc3d5dc5d17262f6aa498e69d6f8e'}\n"
          ]
        }
      ],
      "source": [
        "import requests\n",
        "from typing import List, Dict\n",
        "\n",
        "def get_recent_commits(repo_name: str) -> List[Dict[str, str]]:\n",
        "    url = f\"https://api.github.com/repos/{repo_name}/commits\"\n",
        "    response = requests.get(url)\n",
        "\n",
        "    if response:\n",
        "        commits = response.json()[:5]\n",
        "        return [\n",
        "            {\n",
        "                \"Commit Message\": commit[\"commit\"][\"message\"],\n",
        "                \"Author\": commit[\"commit\"][\"author\"][\"name\"],\n",
        "                \"Date\": commit[\"commit\"][\"author\"][\"date\"],\n",
        "                \"Link\": commit[\"html_url\"]\n",
        "            }\n",
        "            for commit in commits\n",
        "        ]\n",
        "    else:\n",
        "        return {\"ERROR\": \"Repository not found\"}\n",
        "\n",
        "recent_commits = get_recent_commits(\"octocat/Hello-World\")\n",
        "for commit in recent_commits:\n",
        "    print(commit)\n"
      ]
    }
  ],
  "metadata": {
    "colab": {
      "provenance": [],
      "include_colab_link": true
    },
    "kernelspec": {
      "display_name": "Python 3",
      "name": "python3"
    },
    "language_info": {
      "name": "python"
    }
  },
  "nbformat": 4,
  "nbformat_minor": 0
}