{
  "nbformat": 4,
  "nbformat_minor": 0,
  "metadata": {
    "colab": {
      "provenance": [],
      "authorship_tag": "ABX9TyPFXnu7jrk3OwGQIDEWQmwz",
      "include_colab_link": true
    },
    "kernelspec": {
      "name": "python3",
      "display_name": "Python 3"
    },
    "language_info": {
      "name": "python"
    }
  },
  "cells": [
    {
      "cell_type": "markdown",
      "metadata": {
        "id": "view-in-github",
        "colab_type": "text"
      },
      "source": [
        "<a href=\"https://colab.research.google.com/github/LiliiaPavl/PavlovaLiliia/blob/main/Milestone5AncientIn3_ipynb%22.ipynb\" target=\"_parent\"><img src=\"https://colab.research.google.com/assets/colab-badge.svg\" alt=\"Open In Colab\"/></a>"
      ]
    },
    {
      "cell_type": "code",
      "execution_count": null,
      "metadata": {
        "id": "twpmPDTLHYz3"
      },
      "outputs": [],
      "source": [
        "import csv\n",
        "from faker import Faker\n",
        "\n",
        "fake = Faker()\n",
        "\n",
        "num_employees = 43\n",
        "employee_data = [{\n",
        "    'Name': fake.name(),\n",
        "    'Hiring Date': fake.date_this_decade(),\n",
        "    'Department': fake.job(),\n",
        "    'Birthday': fake.date_of_birth(minimum_age=20, maximum_age=60)\n",
        "} for _ in range(num_employees)]\n",
        "\n",
        "with open('database.csv', mode='w') as file:\n",
        "    writer = csv.DictWriter(file, fieldnames=employee_data[0].keys())\n",
        "    writer.writeheader()\n",
        "    writer.writerows(employee_data)\n",
        "\n",
        "print(f\" {num_employees} employee records in 'database.csv'.\")"
      ]
    },
    {
      "cell_type": "code",
      "source": [
        "import csv\n",
        "from datetime import datetime\n",
        "from collections import defaultdict\n",
        "\n",
        "def generate_report():\n",
        "    month_name = 'April'\n",
        "    month = datetime.strptime(month_name, '%B').month\n",
        "    birthdays = defaultdict(int)\n",
        "    anniversaries = defaultdict(int)\n",
        "\n",
        "    with open('database.csv') as file:\n",
        "        reader = csv.DictReader(file)\n",
        "        for row in reader:\n",
        "            if datetime.strptime(row['Birthday'], '%Y-%m-%d').month == month:\n",
        "                birthdays[row['Department']] += 1\n",
        "            if datetime.strptime(row['Hiring Date'], '%Y-%m-%d').month == month:\n",
        "                anniversaries[row['Department']] += 1\n",
        "\n",
        "    print(f\"Report for {month_name} generated\")\n",
        "    print(\"--- Birthdays ---\")\n",
        "    print(f\"Total: {sum(birthdays.values())}\")\n",
        "    for dept, count in birthdays.items():\n",
        "        print(f\"- {dept}: {count}\")\n",
        "\n",
        "    print(\"--- Anniversaries ---\")\n",
        "    print(f\"Total: {sum(anniversaries.values())}\")\n",
        "    for dept, count in anniversaries.items():\n",
        "        print(f\"- {dept}: {count}\")\n",
        "\n",
        "generate_report()\n"
      ],
      "metadata": {
        "id": "fWhj2CcC6y9j"
      },
      "execution_count": null,
      "outputs": []
    }
  ]
}